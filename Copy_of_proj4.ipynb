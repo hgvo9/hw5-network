{
  "nbformat": 4,
  "nbformat_minor": 0,
  "metadata": {
    "colab": {
      "name": "Copy of proj4.ipynb",
      "provenance": [],
      "collapsed_sections": [],
      "authorship_tag": "ABX9TyNuyUkcdFMMoibE4fLxyKWw",
      "include_colab_link": true
    },
    "kernelspec": {
      "name": "python3",
      "display_name": "Python 3"
    },
    "language_info": {
      "name": "python"
    },
    "accelerator": "GPU"
  },
  "cells": [
    {
      "cell_type": "markdown",
      "metadata": {
        "id": "view-in-github",
        "colab_type": "text"
      },
      "source": [
        "<a href=\"https://colab.research.google.com/github/hgvo9/hw5-network/blob/main/Copy_of_proj4.ipynb\" target=\"_parent\"><img src=\"https://colab.research.google.com/assets/colab-badge.svg\" alt=\"Open In Colab\"/></a>"
      ]
    },
    {
      "cell_type": "code",
      "execution_count": null,
      "metadata": {
        "colab": {
          "base_uri": "https://localhost:8080/"
        },
        "id": "pJxt_hQiasjw",
        "outputId": "ea35c282-8696-4db7-e1d5-1c0c6f8060be"
      },
      "outputs": [
        {
          "output_type": "stream",
          "name": "stdout",
          "text": [
            "Sat Jun 11 10:59:44 2022       \n",
            "+-----------------------------------------------------------------------------+\n",
            "| NVIDIA-SMI 460.32.03    Driver Version: 460.32.03    CUDA Version: 11.2     |\n",
            "|-------------------------------+----------------------+----------------------+\n",
            "| GPU  Name        Persistence-M| Bus-Id        Disp.A | Volatile Uncorr. ECC |\n",
            "| Fan  Temp  Perf  Pwr:Usage/Cap|         Memory-Usage | GPU-Util  Compute M. |\n",
            "|                               |                      |               MIG M. |\n",
            "|===============================+======================+======================|\n",
            "|   0  Tesla T4            Off  | 00000000:00:04.0 Off |                    0 |\n",
            "| N/A   49C    P8    10W /  70W |      0MiB / 15109MiB |      0%      Default |\n",
            "|                               |                      |                  N/A |\n",
            "+-------------------------------+----------------------+----------------------+\n",
            "                                                                               \n",
            "+-----------------------------------------------------------------------------+\n",
            "| Processes:                                                                  |\n",
            "|  GPU   GI   CI        PID   Type   Process name                  GPU Memory |\n",
            "|        ID   ID                                                   Usage      |\n",
            "|=============================================================================|\n",
            "|  No running processes found                                                 |\n",
            "+-----------------------------------------------------------------------------+\n"
          ]
        }
      ],
      "source": [
        "!nvidia-smi"
      ]
    },
    {
      "cell_type": "code",
      "source": [
        "%%shell\n",
        "\n",
        "apt update\n",
        "apt-get install g++ freeglut3-dev build-essential libx11-dev libxmu-dev libxi-dev libglu1-mesa libglu1-mesa-dev"
      ],
      "metadata": {
        "colab": {
          "base_uri": "https://localhost:8080/"
        },
        "id": "CwBavnSBeX_R",
        "outputId": "a56187be-4a52-492d-d4c1-802df42b67e5"
      },
      "execution_count": null,
      "outputs": [
        {
          "output_type": "stream",
          "name": "stdout",
          "text": [
            "\u001b[33m\r0% [Working]\u001b[0m\r            \rGet:1 https://developer.download.nvidia.com/compute/cuda/repos/ubuntu1804/x86_64  InRelease [1,581 B]\n",
            "Get:2 https://cloud.r-project.org/bin/linux/ubuntu bionic-cran40/ InRelease [3,626 B]\n",
            "Ign:3 https://developer.download.nvidia.com/compute/machine-learning/repos/ubuntu1804/x86_64  InRelease\n",
            "Get:4 http://ppa.launchpad.net/c2d4u.team/c2d4u4.0+/ubuntu bionic InRelease [15.9 kB]\n",
            "Hit:5 https://developer.download.nvidia.com/compute/machine-learning/repos/ubuntu1804/x86_64  Release\n",
            "Hit:6 http://archive.ubuntu.com/ubuntu bionic InRelease\n",
            "Get:7 https://developer.download.nvidia.com/compute/cuda/repos/ubuntu1804/x86_64  Packages [806 kB]\n",
            "Get:8 http://security.ubuntu.com/ubuntu bionic-security InRelease [88.7 kB]\n",
            "Get:9 http://archive.ubuntu.com/ubuntu bionic-updates InRelease [88.7 kB]\n",
            "Hit:10 http://ppa.launchpad.net/cran/libgit2/ubuntu bionic InRelease\n",
            "Get:12 http://ppa.launchpad.net/deadsnakes/ppa/ubuntu bionic InRelease [15.9 kB]\n",
            "Get:13 http://archive.ubuntu.com/ubuntu bionic-backports InRelease [74.6 kB]\n",
            "Get:14 http://ppa.launchpad.net/graphics-drivers/ppa/ubuntu bionic InRelease [21.3 kB]\n",
            "Get:15 http://ppa.launchpad.net/c2d4u.team/c2d4u4.0+/ubuntu bionic/main Sources [1,992 kB]\n",
            "Get:16 http://security.ubuntu.com/ubuntu bionic-security/main amd64 Packages [2,830 kB]\n",
            "Get:17 http://archive.ubuntu.com/ubuntu bionic-updates/universe amd64 Packages [2,290 kB]\n",
            "Get:18 http://security.ubuntu.com/ubuntu bionic-security/universe amd64 Packages [1,515 kB]\n",
            "Get:19 http://security.ubuntu.com/ubuntu bionic-security/restricted amd64 Packages [982 kB]\n",
            "Get:20 http://archive.ubuntu.com/ubuntu bionic-updates/main amd64 Packages [3,262 kB]\n",
            "Get:21 http://ppa.launchpad.net/c2d4u.team/c2d4u4.0+/ubuntu bionic/main amd64 Packages [1,021 kB]\n",
            "Get:22 http://archive.ubuntu.com/ubuntu bionic-updates/restricted amd64 Packages [1,015 kB]\n",
            "Get:23 http://ppa.launchpad.net/deadsnakes/ppa/ubuntu bionic/main amd64 Packages [45.3 kB]\n",
            "Get:24 http://ppa.launchpad.net/graphics-drivers/ppa/ubuntu bionic/main amd64 Packages [47.7 kB]\n",
            "Fetched 16.1 MB in 3s (4,904 kB/s)\n",
            "Reading package lists... Done\n",
            "Building dependency tree       \n",
            "Reading state information... Done\n",
            "87 packages can be upgraded. Run 'apt list --upgradable' to see them.\n",
            "Reading package lists... Done\n",
            "Building dependency tree       \n",
            "Reading state information... Done\n",
            "build-essential is already the newest version (12.4ubuntu1).\n",
            "libglu1-mesa is already the newest version (9.0.0-2.1build1).\n",
            "libglu1-mesa set to manually installed.\n",
            "libglu1-mesa-dev is already the newest version (9.0.0-2.1build1).\n",
            "libglu1-mesa-dev set to manually installed.\n",
            "libxi-dev is already the newest version (2:1.7.9-1).\n",
            "libxi-dev set to manually installed.\n",
            "libxmu-dev is already the newest version (2:1.1.2-2).\n",
            "libxmu-dev set to manually installed.\n",
            "freeglut3-dev is already the newest version (2.8.1-3).\n",
            "freeglut3-dev set to manually installed.\n",
            "g++ is already the newest version (4:7.4.0-1ubuntu2.3).\n",
            "g++ set to manually installed.\n",
            "libx11-dev is already the newest version (2:1.6.4-3ubuntu0.4).\n",
            "libx11-dev set to manually installed.\n",
            "The following package was automatically installed and is no longer required:\n",
            "  libnvidia-common-460\n",
            "Use 'apt autoremove' to remove it.\n",
            "0 upgraded, 0 newly installed, 0 to remove and 87 not upgraded.\n"
          ]
        },
        {
          "output_type": "execute_result",
          "data": {
            "text/plain": [
              ""
            ]
          },
          "metadata": {},
          "execution_count": 4
        }
      ]
    },
    {
      "cell_type": "code",
      "source": [
        "%%writefile cuda_ray.cu\n",
        "\n",
        "#include <stdio.h>\n",
        "#include <string.h>\n",
        "#include <stdlib.h>\n",
        "#include <time.h>\n",
        "#include <math.h>\n",
        "\n",
        "#define CUDA 0\n",
        "#define OPENMP 1\n",
        "#define SPHERES 20\n",
        "\n",
        "#define rnd( x ) (x * rand() / RAND_MAX)\n",
        "#define INF 2e10f\n",
        "#define DIM 2048\n",
        "\n",
        "struct Sphere {\n",
        "    float   r,b,g;\n",
        "    float   radius;\n",
        "    float   x,y,z;\n",
        "    __device__ float hit( float ox, float oy, float *n ) {\n",
        "        float dx = ox - x;\n",
        "        float dy = oy - y;\n",
        "        if (dx*dx + dy*dy < radius*radius) {\n",
        "            float dz = sqrtf( radius*radius - dx*dx - dy*dy );\n",
        "            *n = dz / sqrtf( radius * radius );\n",
        "            return dz + z;\n",
        "        }\n",
        "        return -INF;\n",
        "    }\n",
        "};\n",
        "\n",
        "__global__ void kernel( Sphere *s, unsigned char *ptr ) {\n",
        "   \n",
        "    int x = threadIdx.x + blockIdx.x * blockDim.x;\n",
        "    int y = threadIdx.y + blockIdx.y * blockDim.y;\n",
        "    int offset = x + y * blockDim.x * gridDim.x;\n",
        "    float   ox = (x - DIM/2);\n",
        "    float   oy = (y - DIM/2);\n",
        "\n",
        "    float   r=0, g=0, b=0;\n",
        "    float   maxz = -INF;\n",
        "    for(int i=0; i<SPHERES; i++) {\n",
        "        float   n;\n",
        "        float   t = s[i].hit( ox, oy, &n );\n",
        "        if (t > maxz) {\n",
        "            float fscale = n;\n",
        "            r = s[i].r * fscale;\n",
        "            g = s[i].g * fscale;\n",
        "            b = s[i].b * fscale;\n",
        "            maxz = t;\n",
        "        }\n",
        "    } \n",
        "\n",
        "    ptr[offset*4 + 0] = (int)(r * 255);\n",
        "    ptr[offset*4 + 1] = (int)(g * 255);\n",
        "    ptr[offset*4 + 2] = (int)(b * 255);\n",
        "    ptr[offset*4 + 3] = 255;\n",
        "}\n",
        "\n",
        "void ppm_write(unsigned char* bitmap, int xdim,int ydim, FILE* fp)\n",
        "{\n",
        "\tint i,x,y;\n",
        "\tfprintf(fp,\"P3\\n\");\n",
        "\tfprintf(fp,\"%d %d\\n\",xdim, ydim);\n",
        "\tfprintf(fp,\"255\\n\");\n",
        "\tfor (y=0;y<ydim;y++) {\n",
        "\t\tfor (x=0;x<xdim;x++) {\n",
        "\t\t\ti=x+y*xdim;\n",
        "\t\t\tfprintf(fp,\"%d %d %d \",bitmap[4*i],bitmap[4*i+1],bitmap[4*i+2]);\n",
        "\t\t}\n",
        "\t\tfprintf(fp,\"\\n\");\n",
        "\t}\n",
        "}\n",
        "\n",
        "int main(int argc, char* argv[])\n",
        "{\n",
        "\tunsigned char* bitmap;\n",
        "\tunsigned char *device_bitmap;\n",
        "\n",
        "\tsrand(time(NULL));\n",
        "\n",
        "\tFILE* fp = fopen(\"result.ppm\",\"w\");\n",
        "\n",
        "\tSphere *temp_s = (Sphere*)malloc( sizeof(Sphere) * SPHERES );\n",
        "\tSphere *device_s;\n",
        "\tcudaMalloc((void**)&device_s, sizeof(Sphere) * SPHERES);\n",
        "\tfor (int i=0; i<SPHERES; i++) {\n",
        "\t\ttemp_s[i].r = rnd( 1.0f );\n",
        "\t\ttemp_s[i].g = rnd( 1.0f );\n",
        "\t\ttemp_s[i].b = rnd( 1.0f );\n",
        "\t\ttemp_s[i].x = rnd( 2000.0f ) - 1000;\n",
        "\t\ttemp_s[i].y = rnd( 2000.0f ) - 1000;\n",
        "\t\ttemp_s[i].z = rnd( 2000.0f ) - 1000;\n",
        "\t\ttemp_s[i].radius = rnd( 200.0f ) + 40;\n",
        "\t}\n",
        "\tcudaMemcpy(device_s, temp_s, sizeof(Sphere) * SPHERES, cudaMemcpyHostToDevice);\n",
        "\tbitmap=(unsigned char*)malloc(sizeof(unsigned char)*DIM*DIM*4);\n",
        "\tcudaMalloc((void**)&device_bitmap, sizeof(unsigned char)*DIM*DIM*4);\n",
        "\tdim3    grids(DIM/4,DIM/4);\n",
        "  dim3    threads(4,4);\n",
        "  kernel<<<grids,threads>>>( device_s, device_bitmap );\n",
        "\tcudaMemcpy(bitmap, device_bitmap, sizeof(unsigned char)*DIM*DIM*4, cudaMemcpyDeviceToHost);\n",
        "\tppm_write(bitmap,DIM,DIM,fp);\n",
        "\n",
        "\tfclose(fp);\n",
        "\tfree(bitmap);\n",
        "\tfree(temp_s);\n",
        "\tcudaFree(device_bitmap);\n",
        "\tcudaFree(device_s);\n",
        "\n",
        "\treturn 0;\n",
        "}"
      ],
      "metadata": {
        "colab": {
          "base_uri": "https://localhost:8080/"
        },
        "id": "lrhobJzrbHJx",
        "outputId": "e45b2f9a-f057-4573-e0e4-cae528921a08"
      },
      "execution_count": null,
      "outputs": [
        {
          "output_type": "stream",
          "name": "stdout",
          "text": [
            "Overwriting cuda_ray.cu\n"
          ]
        }
      ]
    },
    {
      "cell_type": "code",
      "source": [
        "%%shell\n",
        "\n",
        "nvcc cuda_ray.cu\n",
        "time ./a.out\n",
        "nvprof ./a.out"
      ],
      "metadata": {
        "colab": {
          "base_uri": "https://localhost:8080/"
        },
        "id": "OAQ4ghiwbSsT",
        "outputId": "d4c6a84c-a6d8-4b23-da81-cd14330bcbac"
      },
      "execution_count": null,
      "outputs": [
        {
          "output_type": "stream",
          "name": "stdout",
          "text": [
            "\n",
            "real\t0m0.918s\n",
            "user\t0m0.650s\n",
            "sys\t0m0.258s\n",
            "==1888== NVPROF is profiling process 1888, command: ./a.out\n",
            "==1888== Profiling application: ./a.out\n",
            "==1888== Profiling result:\n",
            "            Type  Time(%)      Time     Calls       Avg       Min       Max  Name\n",
            " GPU activities:   76.35%  9.2660ms         1  9.2660ms  9.2660ms  9.2660ms  [CUDA memcpy DtoH]\n",
            "                   23.64%  2.8685ms         1  2.8685ms  2.8685ms  2.8685ms  kernel(Sphere*, unsigned char*)\n",
            "                    0.02%  1.8560us         1  1.8560us  1.8560us  1.8560us  [CUDA memcpy HtoD]\n",
            "      API calls:   94.91%  277.32ms         2  138.66ms  119.68us  277.20ms  cudaMalloc\n",
            "                    4.57%  13.362ms         2  6.6812ms  15.074us  13.347ms  cudaMemcpy\n",
            "                    0.31%  909.14us         2  454.57us  222.06us  687.08us  cudaFree\n",
            "                    0.13%  375.33us         1  375.33us  375.33us  375.33us  cuDeviceTotalMem\n",
            "                    0.05%  149.52us       101  1.4800us     140ns  62.981us  cuDeviceGetAttribute\n",
            "                    0.01%  33.370us         1  33.370us  33.370us  33.370us  cuDeviceGetName\n",
            "                    0.01%  24.952us         1  24.952us  24.952us  24.952us  cudaLaunchKernel\n",
            "                    0.00%  7.5950us         1  7.5950us  7.5950us  7.5950us  cuDeviceGetPCIBusId\n",
            "                    0.00%  1.9060us         3     635ns     216ns  1.3950us  cuDeviceGetCount\n",
            "                    0.00%  1.3210us         2     660ns     267ns  1.0540us  cuDeviceGet\n",
            "                    0.00%     263ns         1     263ns     263ns     263ns  cuDeviceGetUuid\n"
          ]
        },
        {
          "output_type": "execute_result",
          "data": {
            "text/plain": [
              ""
            ]
          },
          "metadata": {},
          "execution_count": 56
        }
      ]
    },
    {
      "cell_type": "code",
      "source": [
        "%%writefile thrust_ex.cu\n",
        "\n",
        "#include <thrust/host_vector.h>\n",
        "#include <thrust/device_vector.h>\n",
        "#include <thrust/generate.h>\n",
        "#include <thrust/reduce.h>\n",
        "#include <thrust/functional.h>\n",
        "#include <thrust/random.h>\n",
        "#include <cmath>\n",
        "\n",
        "#define N 1000000\n",
        "\n",
        "int main(void)\n",
        "{\n",
        "  thrust::host_vector<int> h_vec(N);\n",
        "\n",
        "  thrust::counting_iterator<int>x(0);\n",
        "\n",
        "  for(int i=0; i<N; ++i, ++x) {\n",
        "      h_vec.push_back((4.0/(1+pow(*x, 2))) * (*x - *--x));\n",
        "  }\n",
        "\n",
        "  thrust::device_vector<int> d_vec = h_vec;\n",
        "\n",
        "  thrust::plus<int> sumOperator;\n",
        "\n",
        "  int sum = thrust::reduce(d_vec.begin(), d_vec.end(), 0, sumOperator);\n",
        "\n",
        "  std::cout << sum << std::endl;\n",
        "\n",
        "  return 0;\n",
        "}"
      ],
      "metadata": {
        "colab": {
          "base_uri": "https://localhost:8080/"
        },
        "id": "TXkpeSTfvWUX",
        "outputId": "99222761-060b-4242-96df-b2a0098d1c3f"
      },
      "execution_count": null,
      "outputs": [
        {
          "output_type": "stream",
          "name": "stdout",
          "text": [
            "Overwriting thrust_ex.cu\n"
          ]
        }
      ]
    },
    {
      "cell_type": "code",
      "source": [
        "%%shell\n",
        "\n",
        "nvcc thrust_ex.cu\n",
        "./a.out"
      ],
      "metadata": {
        "colab": {
          "base_uri": "https://localhost:8080/"
        },
        "id": "DovhJfoKvdAv",
        "outputId": "f413b6ad-05d3-41aa-9a8e-fb66478d5d1a"
      },
      "execution_count": null,
      "outputs": [
        {
          "output_type": "stream",
          "name": "stdout",
          "text": [
            "4000000\n"
          ]
        },
        {
          "output_type": "execute_result",
          "data": {
            "text/plain": [
              ""
            ]
          },
          "metadata": {},
          "execution_count": 91
        }
      ]
    }
  ]
}